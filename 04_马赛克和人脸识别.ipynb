{
 "cells": [
  {
   "cell_type": "markdown",
   "id": "47d47c87",
   "metadata": {},
   "source": [
    "# 马赛克"
   ]
  },
  {
   "cell_type": "code",
   "execution_count": 1,
   "id": "06760fdb",
   "metadata": {},
   "outputs": [],
   "source": [
    "import cv2\n",
    "import numpy as np"
   ]
  },
  {
   "cell_type": "code",
   "execution_count": 4,
   "id": "83a03ef2",
   "metadata": {},
   "outputs": [
    {
     "name": "stdout",
     "output_type": "stream",
     "text": [
      "(534, 400, 3)\n"
     ]
    }
   ],
   "source": [
    "img=cv2.imread('./einstein.jpg')\n",
    "print(img.shape)\n",
    "cv2.imshow('einstein',img)\n",
    "cv2.waitKey(0)\n",
    "cv2.destroyAllWindows()"
   ]
  },
  {
   "cell_type": "markdown",
   "id": "b2e057b3",
   "metadata": {},
   "source": [
    "## 马赛克方式一"
   ]
  },
  {
   "cell_type": "code",
   "execution_count": 7,
   "id": "c39264e0",
   "metadata": {},
   "outputs": [],
   "source": [
    "ratio=10\n",
    "img2=cv2.resize(img,(int(img.shape[1]/ratio),int(img.shape[0]/ratio)))\n",
    "img3=np.repeat(img2,ratio,axis=0)\n",
    "img4=np.repeat(img3,ratio,axis=1)\n",
    "cv2.imshow('einstein',img4)\n",
    "cv2.waitKey(0)\n",
    "cv2.destroyAllWindows()"
   ]
  },
  {
   "cell_type": "code",
   "execution_count": 6,
   "id": "644331d1",
   "metadata": {},
   "outputs": [
    {
     "name": "stdout",
     "output_type": "stream",
     "text": [
      "[1 1 1 2 2 2 3 3 3]\n",
      "[[1 2 3]\n",
      " [1 2 3]\n",
      " [1 2 3]\n",
      " [4 5 6]\n",
      " [4 5 6]\n",
      " [4 5 6]]\n"
     ]
    }
   ],
   "source": [
    "#repeat的功能：\n",
    "print(np.repeat([1,2,3],3))\n",
    "print(np.repeat([[1,2,3],[4,5,6]],3,axis=0))"
   ]
  },
  {
   "cell_type": "markdown",
   "id": "45e336a2",
   "metadata": {},
   "source": [
    "## 马赛克方式二"
   ]
  },
  {
   "cell_type": "code",
   "execution_count": null,
   "id": "113255b9",
   "metadata": {},
   "outputs": [],
   "source": [
    "img=cv2.imread('./einstein.jpg')"
   ]
  },
  {
   "cell_type": "code",
   "execution_count": 8,
   "id": "f55d6191",
   "metadata": {},
   "outputs": [],
   "source": [
    "ratio=10\n",
    "img2=img[::ratio,::ratio]\n",
    "# cv2.namedWindow('einstein',flags=cv2.WINDOW_NORMAL)\n",
    "# cv2.resizeWindow('einstein',img.shape[1],img.shape[0])\n",
    "img2=np.repeat(img2,ratio,axis=0)\n",
    "img2=np.repeat(img2,ratio,axis=1)\n",
    "cv2.imshow('einstein',img2)\n",
    "cv2.waitKey(0)\n",
    "cv2.destroyAllWindows()"
   ]
  },
  {
   "cell_type": "markdown",
   "id": "d7123420",
   "metadata": {},
   "source": [
    "## 人脸马赛克"
   ]
  },
  {
   "cell_type": "code",
   "execution_count": null,
   "id": "7dd84c9d",
   "metadata": {},
   "outputs": [],
   "source": [
    "img=cv2.imread('./einstein.jpg')"
   ]
  },
  {
   "cell_type": "code",
   "execution_count": 9,
   "id": "de17d83f",
   "metadata": {},
   "outputs": [],
   "source": [
    "ratio=10\n",
    "x,y,w,h=[126,98,168,250]\n",
    "face = img[y:y+h,x:x+w]\n",
    "face = face[::ratio,::ratio]\n",
    "face = np.repeat(face,ratio,axis=0)\n",
    "face = np.repeat(face,ratio,axis=1)\n",
    "img[y:y+h,x:x+w] = cv2.resize(face,(w,h))#由于face的长和宽不是10的倍数，所以上述操作之后的face不是原来的大小\n",
    "# img = face_mosaic(img, x,y,w,h, ratio)\n",
    "cv2.imshow('einstein',img)\n",
    "cv2.waitKey(0)\n",
    "cv2.destroyAllWindows()"
   ]
  },
  {
   "cell_type": "code",
   "execution_count": 17,
   "id": "514a042d",
   "metadata": {},
   "outputs": [],
   "source": [
    "def face_mosaic(img, x,y,w,h, ratio=10):\n",
    "    face = img[y:y+h,x:x+w]\n",
    "    face = face[::ratio,::ratio]\n",
    "    face = np.repeat(face,ratio,axis=0)\n",
    "    face = np.repeat(face,ratio,axis=1)\n",
    "    img[y:y+h,x:x+w] = cv2.resize(face,(w,h))\n",
    "    return img"
   ]
  },
  {
   "cell_type": "markdown",
   "id": "cf0f4c4b",
   "metadata": {},
   "source": [
    "## 人脸检测\n",
    "为使用 OpenCV 进行人脸检测,需要下载人脸级联分类器 haarcascade_frontalface_default.xml,以下是下载地址:https://github.com/opencv/opencv/tree/master/data/haarcascades\n",
    "\n",
    "## 级联分类器CascadeClassifier\n",
    "CascadeClassifier是opencv下objdetect模块中用来做目标检测的级联分类器的一个类；简而言之是滑动窗口机制+级联分类器的方式；早期opencv版本仅支持haar特征的目标检测，分别在opencv2.2和2.4之后开始支持LBP和HOG特征的目标检测。"
   ]
  },
  {
   "cell_type": "code",
   "execution_count": 18,
   "id": "89e6b87f",
   "metadata": {},
   "outputs": [],
   "source": [
    "import cv2\n",
    "# img=cv2.imread('einstein.jpg',1)\n",
    "# img=cv2.imread('cba.jpeg',1) # 多人识别\n",
    "img=cv2.imread('boy1.jpg',1)\n",
    "face_engine=cv2.CascadeClassifier('haarcascade_frontalface_default.xml')\n",
    "faces=face_engine.detectMultiScale(img,scaleFactor=1.3,minNeighbors=5)\n",
    "for (x,y,w,h) in faces:\n",
    "    img = face_mosaic(img, x,y,w,h)\n",
    "#     img=cv2.rectangle(img,(x,y),(x+w,y+h),(255,0,0),2)\n",
    "cv2.imshow('img',img)\n",
    "cv2.waitKey(0)\n",
    "cv2.destroyAllWindows()"
   ]
  },
  {
   "cell_type": "markdown",
   "id": "0d672e9e",
   "metadata": {},
   "source": [
    "实时捕获摄像头的数据并进行人脸检测"
   ]
  },
  {
   "cell_type": "code",
   "execution_count": 19,
   "id": "9bc18902",
   "metadata": {},
   "outputs": [],
   "source": [
    "import cv2\n",
    "face_cascade=cv2.CascadeClassifier('haarcascade_frontalface_default.xml')\n",
    "cap=cv2.VideoCapture(0)\n",
    "while (True):\n",
    "    ret,frame=cap.read()\n",
    "    faces=face_cascade.detectMultiScale(frame,1.3,5)\n",
    "    img=frame\n",
    "    for(x,y,w,h)in faces:\n",
    "#         img = face_mosaic(img, x,y,w,h)\n",
    "        img=cv2.rectangle(img,(x,y),(x+w,y+h),(255,0,0),2)\n",
    "    cv2.imshow('FaceRecognizing',img)\n",
    "    if cv2.waitKey(5)&0xFF==ord('q'):\n",
    "        break\n",
    "cap.release()\n",
    "cv2.destroyAllWindows()"
   ]
  },
  {
   "cell_type": "code",
   "execution_count": null,
   "id": "27f1b330",
   "metadata": {},
   "outputs": [],
   "source": []
  }
 ],
 "metadata": {
  "kernelspec": {
   "display_name": "Python 3 (ipykernel)",
   "language": "python",
   "name": "python3"
  },
  "language_info": {
   "codemirror_mode": {
    "name": "ipython",
    "version": 3
   },
   "file_extension": ".py",
   "mimetype": "text/x-python",
   "name": "python",
   "nbconvert_exporter": "python",
   "pygments_lexer": "ipython3",
   "version": "3.8.18"
  }
 },
 "nbformat": 4,
 "nbformat_minor": 5
}
