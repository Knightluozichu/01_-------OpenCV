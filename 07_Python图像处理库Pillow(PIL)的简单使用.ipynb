{
 "cells": [
  {
   "cell_type": "markdown",
   "id": "ca3148ea",
   "metadata": {},
   "source": [
    "# 一. PIL和pillow图像处理库\n",
    "\n",
    "图像库PIL(Python Image Library)是Python的第三方图像处理库，但是由于其强大的功能与众多的使用人数，几乎已经被认为是python官方图像处理库了。PIL原来是只支持python2的版本，后来出现了移植到python3的库pillow，pillow其功能和PIL差不多。 PIL 软件包提供了基本的图像处理功能，如：改变图像大小，旋转图像，图像格式转换，色场空间转换，图像增强，直方图处理，插值和滤波等等。\n",
    "\n"
   ]
  },
  {
   "cell_type": "markdown",
   "id": "acf618ad",
   "metadata": {},
   "source": [
    "# 二.安装Pillow\n",
    "\n",
    "安装pytorch时会默认安装Pillow。\n",
    "\n",
    "Pillow 的单独安装也非常简单，不过需要注意 Pillow 和 PIL 不能共存在相同的环境中，因此在安装 Pillow 之前，先要卸载 PIL。命令行下通过 pip 安装："
   ]
  },
  {
   "cell_type": "code",
   "execution_count": 1,
   "id": "46e2f22b",
   "metadata": {},
   "outputs": [
    {
     "name": "stdout",
     "output_type": "stream",
     "text": [
      "Looking in indexes: https://mirrors.aliyun.com/pypi/simple/\n",
      "Requirement already satisfied: pillow in d:\\anaconda3\\envs\\opencv\\lib\\site-packages (10.1.0)\n"
     ]
    }
   ],
   "source": [
    "!pip install pillow"
   ]
  },
  {
   "cell_type": "markdown",
   "id": "92afc73e",
   "metadata": {},
   "source": [
    "安装完成之后，可以在 Python 的开发环境输入以下代码，测试 Pillow 是否安装成功，以及查看相应的版本号。(注意，虽然使用的是 Pillow，但是导入的包依然是 PIL。)"
   ]
  },
  {
   "cell_type": "code",
   "execution_count": 11,
   "id": "039150b5",
   "metadata": {},
   "outputs": [
    {
     "name": "stdout",
     "output_type": "stream",
     "text": [
      "10.2.0\n"
     ]
    }
   ],
   "source": [
    "#Pillow 6.0.0之前的版本\n",
    "#from PIL import Image\n",
    "#print(Image.VERSION)\n",
    "\n",
    "#Pillow 6.0.0及之后的版本\n",
    "import PIL\n",
    "print(PIL.__version__)"
   ]
  },
  {
   "cell_type": "markdown",
   "id": "ed329ceb",
   "metadata": {},
   "source": [
    "# 三.Image类使用\n",
    "\n",
    "Image是PIL中最重要的模块之一，任何一张图片都可以使用Image对象来表示。 可以通过多种方式来创建 Image 类的实例，比如：从文件中加载图像、处理其它图像或从头开始创建图像。\n",
    "\n",
    "## 1.使用Image类打开本地图片\n",
    "\n",
    "要从文件中加载图像创建 Image 类的实例，可以使用 Image 模块的 open() 方法。"
   ]
  },
  {
   "cell_type": "code",
   "execution_count": 14,
   "id": "22c03871",
   "metadata": {},
   "outputs": [],
   "source": [
    "from PIL import Image\n",
    "\n",
    "img = Image.open(r\"./car.jpg\")"
   ]
  },
  {
   "cell_type": "markdown",
   "id": "c13e0a61",
   "metadata": {},
   "source": [
    "执行成功，Image.open() 函数会返回一个 Image 对象。如果图像文件打开错误，则会抛出 OSError 错误。"
   ]
  },
  {
   "cell_type": "markdown",
   "id": "651147a6",
   "metadata": {},
   "source": [
    "## 2.使用Image类从URL读取图像\n",
    "\n",
    "读取网络图形需要配合网络请求工具，通过网络请求工具将图片变成流然后通过Image类进行打开。"
   ]
  },
  {
   "cell_type": "code",
   "execution_count": 7,
   "id": "2f286e80",
   "metadata": {},
   "outputs": [],
   "source": [
    "from PIL import Image\n",
    "import requests\n",
    "\n",
    "url ='https://img.pconline.com.cn/images/upload/upc/tx/itbbs/1805/01/c4/85244107_1525128112840_mthumb.jpg'\n",
    "resp = requests.get(url, stream=True).raw\n",
    "img =Image.open(resp)\n",
    "img.save('flower2.jpg','jpeg')\n"
   ]
  },
  {
   "cell_type": "markdown",
   "id": "8511339b",
   "metadata": {},
   "source": [
    "## 3.使用Image类查看图片信息\n",
    "\n",
    "通过Image 类的实例可以使用实例的属性来检查文件内容。"
   ]
  },
  {
   "cell_type": "code",
   "execution_count": 15,
   "id": "13bc0937",
   "metadata": {},
   "outputs": [
    {
     "name": "stdout",
     "output_type": "stream",
     "text": [
      "JPEG\n",
      "(550, 377)\n",
      "RGB\n"
     ]
    }
   ],
   "source": [
    "from PIL import Image\n",
    "img = Image.open(r\"./car.jpg\")\n",
    "\n",
    "print(img.format)\n",
    "# JPEG\n",
    "print(img.size)\n",
    "# (550, 377)\n",
    "print(img.mode)\n",
    "# RGB\n"
   ]
  },
  {
   "cell_type": "markdown",
   "id": "0f7d5370",
   "metadata": {},
   "source": [
    "<ul>\n",
    "<li>format: 返回图像文件的格式（JPG, PNG, BMP, None, etc.）。用来标识图片的格式或来源，如果图片并不是通过读取文件得到的，那么值就是None。</li>\n",
    "<li>size: 返回图像的尺寸。以二元组的形式返回图像的宽度和高度（以像素为单位）；</li>\n",
    "<li>mode: 返回图像的色彩模式（L, RGB, CMYK, etc.）。L 为灰度图像，RGB 为真彩色图像，CMYK 为印刷图像；</li>\n",
    "</ul>"
   ]
  },
  {
   "cell_type": "markdown",
   "id": "1e52fe4e",
   "metadata": {},
   "source": [
    "## 4.使用Image类显示图片\n",
    "\n",
    "Image 类实例有很多方法，如果想要查看图像，可以使用 show() 方法。"
   ]
  },
  {
   "cell_type": "code",
   "execution_count": 25,
   "id": "2a39646c",
   "metadata": {},
   "outputs": [],
   "source": [
    "from PIL import Image\n",
    "img = Image.open(r\"./car.jpg\")\n",
    "img.show()"
   ]
  },
  {
   "cell_type": "markdown",
   "id": "3b90590a",
   "metadata": {},
   "source": [
    "show() 方法会将图像保存到临时文件中，并且调用你电脑中的图像程序来显示图像。如果你的电脑中没有安装显示图像的应用程序，show() 方法将不能工作。"
   ]
  },
  {
   "cell_type": "markdown",
   "id": "259031ee",
   "metadata": {},
   "source": [
    "## 5.使用Image类保存图片\n",
    "\n",
    "Pillow 保存一个图像语法为:"
   ]
  },
  {
   "cell_type": "markdown",
   "id": "a2b4a0ae",
   "metadata": {},
   "source": [
    "<ul>\n",
    "<li>fp - 文件名（字符串）、pathlib.Path对象或文件对象。</li>\n",
    "<li>format - 可选的格式重写。如果省略，使用的格式是由文件名扩展名决定的。如果使用文件对象而不是文件名，应该总是使用这个参数。</li>\n",
    "\n",
    "<li>返回值 - 无</li>\n",
    "<li>KeyError - 如果不能从文件名确定输出格式，使用格式选项来解决这个问题。</li>\n",
    "<li>IOError - 如果文件不能被写入，文件可能已经被创建，可能包含部分数据。</li>\n",
    "</ul>\n",
    "\n",
    "注意:保存的时候，如果没有指定图片格式的话，那么Pollow会根据输入的后缀名决定图片的格式。"
   ]
  },
  {
   "cell_type": "code",
   "execution_count": 10,
   "id": "eb577d76",
   "metadata": {},
   "outputs": [],
   "source": [
    "img.save('newcar.png')\n",
    "# img.save('newcar.png', format='png')"
   ]
  },
  {
   "cell_type": "markdown",
   "id": "d11d9de8",
   "metadata": {},
   "source": [
    "## 6.Image类常用图片转换功能\n",
    "\n",
    "获取图片信息"
   ]
  },
  {
   "cell_type": "code",
   "execution_count": 17,
   "id": "437c9102",
   "metadata": {},
   "outputs": [
    {
     "name": "stdout",
     "output_type": "stream",
     "text": [
      "JPEG\n"
     ]
    }
   ],
   "source": [
    "from PIL import Image\n",
    "im = Image.open(r\"./car.jpg\")\n",
    "print(im.format)  # JPEG"
   ]
  },
  {
   "cell_type": "markdown",
   "id": "608e2840",
   "metadata": {},
   "source": [
    "获取大小"
   ]
  },
  {
   "cell_type": "code",
   "execution_count": 18,
   "id": "6462a43b",
   "metadata": {},
   "outputs": [
    {
     "name": "stdout",
     "output_type": "stream",
     "text": [
      "(550, 377)\n"
     ]
    }
   ],
   "source": [
    "from PIL import Image\n",
    "im = Image.open(r\"./car.jpg\")\n",
    "print(im.size)  # (550, 377)"
   ]
  },
  {
   "cell_type": "markdown",
   "id": "797ff0fa",
   "metadata": {},
   "source": [
    "获取图像模式"
   ]
  },
  {
   "cell_type": "code",
   "execution_count": 19,
   "id": "bea8a412",
   "metadata": {},
   "outputs": [
    {
     "name": "stdout",
     "output_type": "stream",
     "text": [
      "RGB\n"
     ]
    }
   ],
   "source": [
    "from PIL import Image\n",
    "im = Image.open(r\"./car.jpg\")\n",
    "print(im.mode)"
   ]
  },
  {
   "cell_type": "markdown",
   "id": "026036e8",
   "metadata": {},
   "source": [
    "转换图像模式"
   ]
  },
  {
   "cell_type": "code",
   "execution_count": 20,
   "id": "c4650fc6",
   "metadata": {},
   "outputs": [],
   "source": [
    "from PIL import Image\n",
    "im = Image.open(r\"./car.jpg\")\n",
    "im2 = im.convert(\"L\")#转换为灰度模式\n",
    "im2.show()\n",
    "im3 = im.convert(\"RGBA\")#转换为RGBA模式\n",
    "im3.show()\n",
    "im4 = im.convert(\"1\")#转换为二值模式\n",
    "im4.show()\n",
    "im5 = im.convert(\"CMYK\")#转换为CMYK模式\n",
    "im5.show()\n"
   ]
  },
  {
   "cell_type": "markdown",
   "id": "7c38f5c9",
   "metadata": {},
   "source": [
    "图像缩放"
   ]
  },
  {
   "cell_type": "code",
   "execution_count": 21,
   "id": "2f7fbae7",
   "metadata": {},
   "outputs": [],
   "source": [
    "from PIL import Image\n",
    "im = Image.open(r\"./car.jpg\")\n",
    "# 缩放为原来的1/2\n",
    "im = im.resize((im.size[0] // 2, im.size[1] // 2))\n",
    "im.show()"
   ]
  },
  {
   "cell_type": "markdown",
   "id": "931d41fd",
   "metadata": {},
   "source": [
    "图像翻转"
   ]
  },
  {
   "cell_type": "code",
   "execution_count": 22,
   "id": "09154f55",
   "metadata": {},
   "outputs": [],
   "source": [
    "from PIL import Image\n",
    "im = Image.open(r\"./car.jpg\")\n",
    "# 填入角度，按照逆时针进行翻转\n",
    "im = im.rotate(-30)\n",
    "im.show()"
   ]
  },
  {
   "cell_type": "markdown",
   "id": "d97ec66b",
   "metadata": {},
   "source": [
    "图像模糊"
   ]
  },
  {
   "cell_type": "code",
   "execution_count": 23,
   "id": "7254ca50",
   "metadata": {},
   "outputs": [],
   "source": [
    "from PIL import Image\n",
    "from PIL import ImageFilter\n",
    "im = Image.open(r\"./car.jpg\")\n",
    "# 图像模糊\n",
    "im = im.filter(ImageFilter.BLUR)\n",
    "im.show()"
   ]
  },
  {
   "cell_type": "markdown",
   "id": "ea55c043",
   "metadata": {},
   "source": [
    "图像增强（细节突出）"
   ]
  },
  {
   "cell_type": "code",
   "execution_count": 26,
   "id": "a7fcf84a",
   "metadata": {},
   "outputs": [],
   "source": [
    "from PIL import Image\n",
    "from PIL import ImageFilter\n",
    "im = Image.open(r\"./car.jpg\")\n",
    "im = im.filter(ImageFilter.DETAIL)\n",
    "im.show()"
   ]
  },
  {
   "cell_type": "markdown",
   "id": "c0317b09",
   "metadata": {},
   "source": [
    "图像边缘提取"
   ]
  },
  {
   "cell_type": "code",
   "execution_count": 27,
   "id": "118146be",
   "metadata": {},
   "outputs": [],
   "source": [
    "from PIL import Image\n",
    "from PIL import ImageFilter\n",
    "im = Image.open(r\"./car.jpg\")\n",
    "im = im.filter(ImageFilter.FIND_EDGES)\n",
    "im.show()"
   ]
  },
  {
   "cell_type": "markdown",
   "id": "65b38e4f",
   "metadata": {},
   "source": [
    "浮雕效果"
   ]
  },
  {
   "cell_type": "code",
   "execution_count": 28,
   "id": "faca69b4",
   "metadata": {},
   "outputs": [],
   "source": [
    "from PIL import Image\n",
    "from PIL import ImageFilter\n",
    "im = Image.open(r\"./car.jpg\")\n",
    "im = im.filter(ImageFilter.EMBOSS)\n",
    "im.show()"
   ]
  },
  {
   "cell_type": "markdown",
   "id": "60eaf312",
   "metadata": {},
   "source": [
    "锐化效果"
   ]
  },
  {
   "cell_type": "code",
   "execution_count": 29,
   "id": "83541e60",
   "metadata": {},
   "outputs": [],
   "source": [
    "from PIL import Image\n",
    "from PIL import ImageFilter\n",
    "im = Image.open(r\"./car.jpg\")\n",
    "im = im.filter(ImageFilter.SHARPEN)\n",
    "im.show()"
   ]
  },
  {
   "cell_type": "markdown",
   "id": "cda32dec",
   "metadata": {},
   "source": [
    "# 7. 案例：绘制九宫格"
   ]
  },
  {
   "cell_type": "code",
   "execution_count": 30,
   "id": "0811d71e",
   "metadata": {},
   "outputs": [],
   "source": [
    "from PIL import Image, ImageFilter, ImageFont, ImageDraw"
   ]
  },
  {
   "cell_type": "code",
   "execution_count": 31,
   "id": "e99c433d",
   "metadata": {},
   "outputs": [],
   "source": [
    "width=300;height=300\n",
    "x,y=0,0"
   ]
  },
  {
   "cell_type": "code",
   "execution_count": 32,
   "id": "89a0478c",
   "metadata": {},
   "outputs": [],
   "source": [
    "im = Image.new(\"RGB\",(width,height),(255,255,255))"
   ]
  },
  {
   "cell_type": "code",
   "execution_count": 33,
   "id": "13174797",
   "metadata": {},
   "outputs": [],
   "source": [
    "draw = ImageDraw.Draw(im)"
   ]
  },
  {
   "cell_type": "code",
   "execution_count": 34,
   "id": "d9a7b40a",
   "metadata": {},
   "outputs": [],
   "source": [
    "def get_color1():\n",
    "    a=(x//100)+(y//100)\n",
    "    if a==0:\n",
    "        return (255,0,0)\n",
    "    elif a==1:\n",
    "        return (0,255,255)\n",
    "    elif a==2:\n",
    "        return (0,0,255)\n",
    "    elif a==3:\n",
    "        return (255,255,0)\n",
    "    elif a==4:\n",
    "        return (255,0,255)\n",
    "    else:\n",
    "        return (0,0,0)"
   ]
  },
  {
   "cell_type": "code",
   "execution_count": 35,
   "id": "d4aa684f",
   "metadata": {},
   "outputs": [],
   "source": [
    "for x in range(width):\n",
    "    for y in range(height):\n",
    "        draw.point((x,y),fill=get_color1())\n",
    "im.show()"
   ]
  },
  {
   "cell_type": "code",
   "execution_count": null,
   "id": "330fcc3b",
   "metadata": {},
   "outputs": [],
   "source": []
  }
 ],
 "metadata": {
  "kernelspec": {
   "display_name": "Python 3 (ipykernel)",
   "language": "python",
   "name": "python3"
  },
  "language_info": {
   "codemirror_mode": {
    "name": "ipython",
    "version": 3
   },
   "file_extension": ".py",
   "mimetype": "text/x-python",
   "name": "python",
   "nbconvert_exporter": "python",
   "pygments_lexer": "ipython3",
   "version": "3.8.18"
  }
 },
 "nbformat": 4,
 "nbformat_minor": 5
}
