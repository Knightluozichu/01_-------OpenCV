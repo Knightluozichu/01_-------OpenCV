{
 "cells": [
  {
   "cell_type": "code",
   "execution_count": 3,
   "metadata": {},
   "outputs": [],
   "source": [
    "import numpy as np\n",
    "import cv2 as cv\n",
    "import matplotlib.pyplot as plt"
   ]
  },
  {
   "cell_type": "markdown",
   "metadata": {},
   "source": [
    "# 图像基本操作"
   ]
  },
  {
   "cell_type": "code",
   "execution_count": 4,
   "metadata": {},
   "outputs": [],
   "source": [
    "# 读取图像数据\n",
    "img = cv.imread(\"xiaoren.png\")"
   ]
  },
  {
   "cell_type": "code",
   "execution_count": null,
   "metadata": {},
   "outputs": [],
   "source": [
    "img2 = img[:100, 0:300]\n",
    "# 图像可视化\n",
    "cv.imshow('image', img2)\n",
    "# 让图像暂停delay毫秒，当delay秒设置为0的时候，表示永远，当键盘任意输入的时候，结束暂停\n",
    "cv.waitKey(0)\n",
    "# 释放所有资源\n",
    "cv.destroyAllWindows()"
   ]
  },
  {
   "cell_type": "code",
   "execution_count": null,
   "metadata": {},
   "outputs": [],
   "source": [
    "# 访问图像的像素(第一个是第多少行，第二个是第多少列)\n",
    "px = img[250, 300]\n",
    "print(\"位置(250,300)对应的像素为:{}\".format(px))\n",
    "blue = img[250, 300, 0]\n",
    "print(\"位置(250,300)对应的像素的蓝色取值为:{}\".format(blue))\n",
    "# 设置所有红色像素为127\n",
    "img[:,:,2] = 127\n",
    "print(\"位置(250,300)对应的像素为:{}\".format(img[250, 300]))"
   ]
  },
  {
   "cell_type": "code",
   "execution_count": null,
   "metadata": {},
   "outputs": [],
   "source": [
    "# 基于Image对象获取对应的像素值\n",
    "print(\"位置(250,300)对应的像素的蓝色取值为:{}\".format(img.item(250,300,0)))\n",
    "# 设置像素值\n",
    "img.itemset((250,300,0), 100)\n",
    "print(\"位置(250,300)对应的像素的新的蓝色取值为:{}\".format(img.item(250,300,0)))"
   ]
  },
  {
   "cell_type": "code",
   "execution_count": null,
   "metadata": {},
   "outputs": [],
   "source": [
    "img = cv.imread(\"xiaoren.png\")\n",
    "# 图像粘贴\n",
    "box = img[0:95, 20:240]\n",
    "box2 = img[100:195, 200:420]\n",
    "box2 = box2 * 0.7 + box * 0.3\n",
    "img[100:195, 200:420] = box2\n",
    "\n",
    "# 图像可视化\n",
    "cv.imshow('image', img)\n",
    "# 让图像暂停delay毫秒，当delay秒设置为0的时候，表示永远，当键盘任意输入的时候，结束暂停\n",
    "cv.waitKey(0)\n",
    "# 释放所有资源\n",
    "cv.destroyAllWindows()"
   ]
  },
  {
   "cell_type": "code",
   "execution_count": null,
   "metadata": {},
   "outputs": [],
   "source": [
    "img = cv.imread(\"xiaoren.png\")\n",
    "# 图像通道的分割和合并\n",
    "b,g,r = cv.split(img)\n",
    "img = cv.merge((r, g, b))  # 将原来的r当成新图像的中b，将原来的b当成新图像中的r\n",
    "\n",
    "# plt.imshow(img)\n",
    "# plt.show()\n",
    "# 图像可视化\n",
    "cv.imshow('image', img)\n",
    "# 让图像暂停delay毫秒，当delay秒设置为0的时候，表示永远，当键盘任意输入的时候，结束暂停\n",
    "cv.waitKey(0)\n",
    "# 释放所有资源\n",
    "cv.destroyAllWindows()"
   ]
  },
  {
   "cell_type": "code",
   "execution_count": null,
   "metadata": {},
   "outputs": [],
   "source": [
    "# 添加边框\n",
    "# 读取图片\n",
    "img = cv.imread('opencv-logo.png')\n",
    "\n",
    "# 开始添加边框\n",
    "# 直接复制\n",
    "replicate = cv.copyMakeBorder(img, top=10, bottom=10, left=10, right=10, borderType=cv.BORDER_REPLICATE)\n",
    "# 边界反射\n",
    "reflect = cv.copyMakeBorder(img,10,10,10,10,cv.BORDER_REFLECT)\n",
    "# 边界反射，边界像素不保留\n",
    "reflect101 = cv.copyMakeBorder(img,10,10,10,10,cv.BORDER_REFLECT_101)\n",
    "# 边界延伸循环\n",
    "wrap = cv.copyMakeBorder(img,10,10,10,10,cv.BORDER_WRAP)\n",
    "# 添加常数\n",
    "constant= cv.copyMakeBorder(img,10,10,10,10,cv.BORDER_CONSTANT, value=[128,128,128])\n",
    "\n",
    "# 可视化\n",
    "plt.subplot(231)\n",
    "plt.imshow(cv.cvtColor(img, cv.COLOR_BGR2RGB))\n",
    "plt.title(\"Original\")\n",
    "plt.subplot(232)\n",
    "plt.imshow(cv.cvtColor(replicate, cv.COLOR_BGR2RGB))\n",
    "plt.title(\"Replicate\")\n",
    "plt.subplot(233)\n",
    "plt.imshow(cv.cvtColor(reflect, cv.COLOR_BGR2RGB))\n",
    "plt.title(\"Reflect\")\n",
    "plt.subplot(234)\n",
    "plt.imshow(cv.cvtColor(reflect101, cv.COLOR_BGR2RGB))\n",
    "plt.title(\"Reflect101\")\n",
    "plt.subplot(235)\n",
    "plt.imshow(cv.cvtColor(wrap, cv.COLOR_BGR2RGB))\n",
    "plt.title(\"Wrap\")\n",
    "plt.subplot(236)\n",
    "plt.imshow(cv.cvtColor(constant, cv.COLOR_BGR2RGB))\n",
    "plt.title(\"Constant\")\n",
    "\n",
    "plt.show()"
   ]
  },
  {
   "cell_type": "code",
   "execution_count": null,
   "metadata": {},
   "outputs": [],
   "source": [
    "# 添加边框\n",
    "# 读取图片\n",
    "img = np.array([1,2,3,4,5,6,7,8,9]).reshape((3,3))\n",
    "\n",
    "# 开始添加边框\n",
    "# 直接复制: 直接将边缘的像素点作为新增像素点的值\n",
    "replicate = cv.copyMakeBorder(img, top=3, bottom=3, left=3, right=3, borderType=cv.BORDER_REPLICATE)\n",
    "# 边界反射\n",
    "reflect = cv.copyMakeBorder(img,3,3,3,3,cv.BORDER_REFLECT)\n",
    "# 边界反射，边界像素不保留\n",
    "reflect101 = cv.copyMakeBorder(img,3,3,3,3,cv.BORDER_REFLECT_101)\n",
    "# 边界延伸\n",
    "wrap = cv.copyMakeBorder(img,2,2,2,2,cv.BORDER_WRAP)\n",
    "# 添加常数\n",
    "constant= cv.copyMakeBorder(img,2,2,2,2,cv.BORDER_CONSTANT,value=0)\n",
    "print(img)\n",
    "print(replicate)\n",
    "print(reflect)\n",
    "print(reflect101)\n",
    "print(wrap)\n",
    "print(constant)"
   ]
  },
  {
   "cell_type": "markdown",
   "metadata": {},
   "source": [
    "# 图像运算"
   ]
  },
  {
   "cell_type": "code",
   "execution_count": null,
   "metadata": {},
   "outputs": [],
   "source": [
    "# 图像合并\n",
    "# 加载图像\n",
    "img1 = cv.imread(\"xiaoren.png\")\n",
    "img2 = cv.imread(\"opencv-logo.jpg\")\n",
    "\n",
    "# 将大小设置为相同大小\n",
    "img1 = cv.resize(img1, (300,300))\n",
    "img2 = cv.resize(img2, (300,300))\n",
    "\n",
    "# 添加背景\n",
    "# 计算公式：dst = alphe * src1 + beta * src2 + gamma\n",
    "dst = cv.addWeighted(src1=img1, alpha=0.3, src2=img2, beta=0.4, gamma=0)\n",
    "\n",
    "# 图像可视化\n",
    "cv.imshow('image', dst)\n",
    "cv.waitKey(0)\n",
    "cv.destroyAllWindows()"
   ]
  },
  {
   "cell_type": "code",
   "execution_count": null,
   "metadata": {},
   "outputs": [],
   "source": [
    "dst.max()"
   ]
  },
  {
   "cell_type": "code",
   "execution_count": null,
   "metadata": {},
   "outputs": [],
   "source": [
    "a = img1 * 0.3 + img2 * 1.0\n",
    "print(np.max(a))\n",
    "a = np.clip(a, a_min=0, a_max=255).astype(np.uint8)\n",
    "print(a.dtype)\n",
    "print(np.max(a))\n",
    "\n",
    "# 图像可视化\n",
    "cv.imshow('image', a)\n",
    "cv.waitKey(0)\n",
    "cv.destroyAllWindows()"
   ]
  },
  {
   "cell_type": "code",
   "execution_count": null,
   "metadata": {},
   "outputs": [],
   "source": [
    "img2 = cv.imread(\"xiaoren.png\")\n",
    "\n",
    "# 将图像转换为灰度图像\n",
    "img2gray = cv.cvtColor(img2,cv.COLOR_BGR2GRAY)\n",
    "# 二值化操作：将输入图像(灰度图像)中所有像素值大于第二个参数的全部设置为第三个参数值\n",
    "ret, mask = cv.threshold(img2gray, 100, 255, cv.THRESH_BINARY)\n",
    "mask_inv = cv.bitwise_not(mask)\n",
    "# 图像可视化\n",
    "cv.imshow('image1', mask)\n",
    "cv.imshow('image2', mask_inv)\n",
    "cv.waitKey(0)\n",
    "cv.destroyAllWindows()"
   ]
  },
  {
   "cell_type": "code",
   "execution_count": 10,
   "metadata": {},
   "outputs": [],
   "source": [
    "#应用案例\n",
    "\n",
    "img1 = cv.imread(\"xiaoren.png\")\n",
    "img2 = cv.imread(\"opencv-logo.jpg\")\n",
    "img2 = img2[:77,:]\n",
    "start_row=100\n",
    "end_row=img2.shape[0]+100\n",
    "end_col = img1.shape[1]-100\n",
    "start_col = img1.shape[1] - img2.shape[1] -100\n",
    "\n",
    "\n",
    "img2gray = cv.cvtColor(img2,cv.COLOR_BGR2GRAY)\n",
    "ret, mask = cv.threshold(img2gray, 166, 255, cv.THRESH_BINARY)\n",
    "mask_inv = cv.bitwise_not(mask)\n",
    "\n",
    "area = img1[start_row:end_row,start_col:end_col]\n",
    "\n",
    "bg = cv.bitwise_and(area,area,mask=mask)\n",
    "fg = cv.bitwise_and(img2,img2,mask=mask_inv)\n",
    "\n",
    "# # result = bg+fg\n",
    "result = cv.add(bg,fg)\n",
    "img1[start_row:end_row,start_col:end_col]= result\n",
    "\n",
    "cv.imshow('image', bg)\n",
    "cv.waitKey(0)\n",
    "cv.destroyAllWindows()"
   ]
  },
  {
   "cell_type": "code",
   "execution_count": null,
   "metadata": {},
   "outputs": [],
   "source": []
  },
  {
   "cell_type": "code",
   "execution_count": null,
   "metadata": {},
   "outputs": [],
   "source": []
  }
 ],
 "metadata": {
  "kernelspec": {
   "display_name": "Python 3 (ipykernel)",
   "language": "python",
   "name": "python3"
  },
  "language_info": {
   "codemirror_mode": {
    "name": "ipython",
    "version": 3
   },
   "file_extension": ".py",
   "mimetype": "text/x-python",
   "name": "python",
   "nbconvert_exporter": "python",
   "pygments_lexer": "ipython3",
   "version": "3.8.18"
  }
 },
 "nbformat": 4,
 "nbformat_minor": 4
}
